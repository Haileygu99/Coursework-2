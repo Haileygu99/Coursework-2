{
 "cells": [
  {
   "cell_type": "code",
   "execution_count": 1,
   "id": "ced9379f",
   "metadata": {},
   "outputs": [],
   "source": [
    "# Packages loading\n",
    "\n",
    "import pandas as pd\n",
    "import datetime\n",
    "import matplotlib.pyplot as plt\n",
    "from datetime import date\n",
    "import hashlib\n",
    "import random, string"
   ]
  },
  {
   "cell_type": "code",
   "execution_count": 2,
   "id": "2bfb15da",
   "metadata": {},
   "outputs": [],
   "source": [
    "# Import data and target\n",
    "df = pd.read_csv(r'C:\\Users\\jay_g\\Imperial College London\\CDM Group 5 - WP - Documents\\General\\customer_information.csv') #change to own source's directory "
   ]
  },
  {
   "cell_type": "code",
   "execution_count": 3,
   "id": "7cc336c3",
   "metadata": {},
   "outputs": [],
   "source": [
    "# convert just colums \"weight\" and \"height\" into numeric.\n",
    "df[\"weight\"] = pd.to_numeric(df[\"weight\"])\n",
    "df[\"height\"] = pd.to_numeric(df[\"height\"])\n",
    "df['heightsquared']=df['height']**2\n",
    "\n",
    "#df.insert(1,\"BMI\",[])\n",
    "df['bmi']=df['weight']/df['heightsquared']\n",
    "\n",
    "# delete the column 'weight','height'and 'heightsquared'\n",
    "del df['weight']\n",
    "del df['height']\n",
    "del df['heightsquared']"
   ]
  },
  {
   "cell_type": "code",
   "execution_count": 4,
   "id": "4811011d",
   "metadata": {},
   "outputs": [],
   "source": [
    "# Generate a function to convert birthdate to age group\n",
    "# Years of birth\n",
    "birthdate=pd.to_datetime(df.birthdate)\n",
    "df['birth_year'] = pd.DatetimeIndex(birthdate).year\n",
    "\n",
    "# Age\n",
    "def from_birthdate_to_age(birth_date):\n",
    "    now=pd.Timestamp('now')\n",
    "    now_year,now_month,now_day = now.year, now.month, now.day\n",
    "    birth_date = pd.to_datetime(birth_date)\n",
    "    birth_year, birth_month, birth_day = birth_date.year, birth_date.month, birth_date.day\n",
    "    age = now_year - birth_year\n",
    "    if now_month >= birth_month:\n",
    "        if now_day >= birth_day:\n",
    "            age = now_year - birth_year + 1\n",
    "    return (age)\n",
    "\n",
    "df['age'] = df['birthdate'].apply(from_birthdate_to_age)\n",
    "\n",
    "# Banding age to groups\n",
    "bins_age = [0, 20, 30, 40, 50, 60, 80]\n",
    "labels_age= ['<20','20-30','30-40','40-50','50-60','60-70']\n",
    "df['age_groups'] = pd.cut(df.age, bins = bins_age, labels = labels_age)"
   ]
  },
  {
   "cell_type": "code",
   "execution_count": 5,
   "id": "1bb134e1",
   "metadata": {},
   "outputs": [],
   "source": [
    "# Banding smoking per week\n",
    "## we are defining smoking <=40 cig per week as light smokers, 40-175 as intermediate smokers, >175 as heavy smokers\n",
    "### https://www.ncbi.nlm.nih.gov/pmc/articles/PMC2865193/\n",
    "#### https://pubmed.ncbi.nlm.nih.gov/1614993/\n",
    "bins_smok= [0, 40, 175, 500]\n",
    "labels_smok=['light smokers','intermediate smokers','heavy smokers']\n",
    "df['smoking_status'] = pd.cut(df.avg_n_cigret_per_week, bins = bins_smok, labels = labels_smok)\n",
    "\n",
    "# Banding avg_n_drinks_per_week\n",
    "## 0-3.9 as low-level alc consumption, 4-6.9 as moderate alc consumption,7-10 as high-level alc consumption\n",
    "bins_alc = [0,4,7,10]\n",
    "label_alc = ['low', 'moderate', 'high']\n",
    "df['level of drinking_status'] = pd.cut(df.avg_n_drinks_per_week, bins = bins_alc, labels = label_alc, right = False)"
   ]
  },
  {
   "cell_type": "code",
   "execution_count": 11,
   "id": "ab47490d",
   "metadata": {},
   "outputs": [
    {
     "name": "stderr",
     "output_type": "stream",
     "text": [
      "C:\\Users\\jay_g\\AppData\\Local\\Temp\\ipykernel_25428\\369217079.py:25: SettingWithCopyWarning: \n",
      "A value is trying to be set on a copy of a slice from a DataFrame.\n",
      "Try using .loc[row_indexer,col_indexer] = value instead\n",
      "\n",
      "See the caveats in the documentation: https://pandas.pydata.org/pandas-docs/stable/user_guide/indexing.html#returning-a-view-versus-a-copy\n",
      "  secure_df['hash']=df['hash']\n",
      "C:\\Users\\jay_g\\AppData\\Local\\Temp\\ipykernel_25428\\369217079.py:26: SettingWithCopyWarning: \n",
      "A value is trying to be set on a copy of a slice from a DataFrame.\n",
      "Try using .loc[row_indexer,col_indexer] = value instead\n",
      "\n",
      "See the caveats in the documentation: https://pandas.pydata.org/pandas-docs/stable/user_guide/indexing.html#returning-a-view-versus-a-copy\n",
      "  secure_df['salt']=salt\n"
     ]
    }
   ],
   "source": [
    "#SHA ----------------------------------------------------------------\n",
    "\n",
    "#Salt generator\n",
    "def randomword(length):\n",
    "   letters = string.ascii_lowercase #generates lowercase letters\n",
    "   return ''.join(random.choice(letters) for i in range(length)) #generates salt from letters\n",
    "\n",
    "df['NI_enc']=df['national_insurance_number'].str.encode('utf-8') #utf encoding needed for sha function\n",
    "\n",
    "key='password123'.encode('utf-8') #encoding key\n",
    "\n",
    "#Hash function\n",
    "hashes=[]\n",
    "salt=[]\n",
    "for i in range(len(df['NI_enc'])):\n",
    "    salt.append(randomword(10).encode('utf-8'))\n",
    "    hashes.append(hashlib.sha1(key+salt[i]+df['NI_enc'][i]).hexdigest()) #hash function applied \n",
    "\n",
    "df['hash']=hashes\n",
    "df['postcode_split'] = df['postcode'].str.split().str[0] \n",
    "hash_cols=['given_name','surname','phone_number','national_insurance_number','blood_group','postcode','birthdate','age','bank_account_number','birth_year','avg_n_drinks_per_week','avg_n_cigret_per_week']\n",
    "\n",
    "#Lookup table generation\n",
    "secure_df=df[hash_cols]\n",
    "secure_df['hash']=df['hash']\n",
    "secure_df['salt']=salt\n",
    "new_cust=df.drop(columns=hash_cols)\n",
    "new_cust=new_cust.drop(columns='NI_enc')"
   ]
  },
  {
   "cell_type": "code",
   "execution_count": null,
   "id": "1d26e51d",
   "metadata": {},
   "outputs": [],
   "source": []
  }
 ],
 "metadata": {
  "kernelspec": {
   "display_name": "Python 3.9.13 64-bit (microsoft store)",
   "language": "python",
   "name": "python3"
  },
  "language_info": {
   "codemirror_mode": {
    "name": "ipython",
    "version": 3
   },
   "file_extension": ".py",
   "mimetype": "text/x-python",
   "name": "python",
   "nbconvert_exporter": "python",
   "pygments_lexer": "ipython3",
   "version": "3.9.13"
  },
  "vscode": {
   "interpreter": {
    "hash": "423ff7d86d9cbe044ac35b20909f65b692966f7168e9bcbf4810c5e82eff1ead"
   }
  }
 },
 "nbformat": 4,
 "nbformat_minor": 5
}
