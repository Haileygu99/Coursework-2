{
 "cells": [
  {
   "cell_type": "code",
   "execution_count": null,
   "id": "ced9379f",
   "metadata": {
    "pycharm": {
     "is_executing": true
    }
   },
   "outputs": [],
   "source": [
    "# Packages loading\n",
    "\n",
    "import pandas as pd\n",
    "import datetime\n",
    "import matplotlib.pyplot as plt\n",
    "from datetime import date\n",
    "import hashlib\n",
    "import random, string"
   ]
  },
  {
   "cell_type": "code",
   "execution_count": null,
   "id": "2bfb15da",
   "metadata": {
    "pycharm": {
     "is_executing": true
    }
   },
   "outputs": [],
   "source": [
    "# Import data and target\n",
    "df = pd.read_csv('customer_information.csv') #change to own source's directory"
   ]
  },
  {
   "cell_type": "code",
   "execution_count": 3,
   "id": "7cc336c3",
   "metadata": {},
   "outputs": [],
   "source": [
    "# convert just colums \"weight\" and \"height\" into numeric.\n",
    "df[\"weight\"] = pd.to_numeric(df[\"weight\"])\n",
    "df[\"height\"] = pd.to_numeric(df[\"height\"])\n",
    "df['heightsquared']=df['height']**2\n",
    "\n",
    "#df.insert(1,\"BMI\",[])\n",
    "df['bmi']=df['weight']/df['heightsquared']\n",
    "df['bmi']=df['bmi'].apply(lambda x:round(x,2))\n",
    "\n",
    "# delete the column 'weight','height'and 'heightsquared'\n",
    "del df['weight']\n",
    "del df['height']\n",
    "del df['heightsquared']"
   ]
  },
  {
   "cell_type": "code",
   "execution_count": 4,
   "id": "4811011d",
   "metadata": {},
   "outputs": [],
   "source": [
    "# Generate a function to convert birthdate to age group\n",
    "# Years of birth\n",
    "birthdate=pd.to_datetime(df.birthdate)\n",
    "df['birth_year'] = pd.DatetimeIndex(birthdate).year\n",
    "\n",
    "# Age\n",
    "def from_birthdate_to_age(birth_date):\n",
    "    now=pd.Timestamp('now')\n",
    "    now_year,now_month,now_day = now.year, now.month, now.day\n",
    "    birth_date = pd.to_datetime(birth_date)\n",
    "    birth_year, birth_month, birth_day = birth_date.year, birth_date.month, birth_date.day\n",
    "    age = now_year - birth_year\n",
    "    if now_month >= birth_month:\n",
    "        if now_day >= birth_day:\n",
    "            age = now_year - birth_year + 1\n",
    "    return (age)\n",
    "\n",
    "df['age'] = df['birthdate'].apply(from_birthdate_to_age)\n",
    "\n",
    "# Banding age to groups\n",
    "bins_age = [0, 20, 30, 40, 50, 60, 80]\n",
    "labels_age= ['<20','20-30','30-40','40-50','50-60','60-70']\n",
    "df['age_groups'] = pd.cut(df.age, bins = bins_age, labels = labels_age)"
   ]
  },
  {
   "cell_type": "code",
   "execution_count": 5,
   "id": "1bb134e1",
   "metadata": {},
   "outputs": [],
   "source": [
    "# Banding smoking per week\n",
    "## we are defining smoking <=40 cig per week as light smokers, 40-175 as intermediate smokers, >175 as heavy smokers\n",
    "### https://www.ncbi.nlm.nih.gov/pmc/articles/PMC2865193/\n",
    "#### https://pubmed.ncbi.nlm.nih.gov/1614993/\n",
    "bins_smok= [0, 40, 175, 500]\n",
    "labels_smok=['light smokers','intermediate smokers','heavy smokers']\n",
    "df['smoking_status'] = pd.cut(df.avg_n_cigret_per_week, bins = bins_smok, labels = labels_smok)\n",
    "\n",
    "# Banding avg_n_drinks_per_week\n",
    "## 0-3.9 as low-level alc consumption, 4-6.9 as moderate alc consumption,7-10 as high-level alc consumption\n",
    "bins_alc = [0,4,7,10]\n",
    "label_alc = ['low', 'moderate', 'high']\n",
    "df['level of drinking_status'] = pd.cut(df.avg_n_drinks_per_week, bins = bins_alc, labels = label_alc, right = False)"
   ]
  },
  {
   "cell_type": "code",
   "execution_count": 6,
   "id": "1a327fac",
   "metadata": {},
   "outputs": [],
   "source": [
    "# Banding 'BMI' to groups\n",
    "## 0-18.5 as underweight, 18.5-24.9 as healthy,24.9 and over as overweight\n",
    "bins_bmi = [0,18.5,24.9,50]\n",
    "label_bmi = ['underweight', 'healthy', 'overweight']\n",
    "df['level of bmi'] = pd.cut(df.bmi, bins = bins_bmi, labels = label_bmi, right = False)\n",
    "\n",
    "# Banding countries visited to groups\n",
    "bins_countries = [1, 18, 34, 50]\n",
    "labels_countries= ['2-18','19-34','35-50']\n",
    "df['countries_visited'] = pd.cut(df.n_countries_visited, bins = bins_countries, labels = labels_countries)"
   ]
  },
  {
   "cell_type": "code",
   "execution_count": 7,
   "id": "11b37199",
   "metadata": {},
   "outputs": [],
   "source": [
    "# Country_of_birth Clearing Up\n",
    "import pycountry_convert as pc  #pip install pycountry-convert\n",
    "df['country_of_birth'] = df['country_of_birth'].replace(['Korea'], 'South Korea')\n",
    "df['country_of_birth'] = df['country_of_birth'].replace(['Palestinian Territory'], 'Jordan')\n",
    "df['country_of_birth'] = df['country_of_birth'].replace(['Saint Barthelemy'], 'Dominican Republic')\n",
    "df['country_of_birth'] = df['country_of_birth'].replace(['Saint Helena'], 'South Africa')\n",
    "df['country_of_birth'] = df['country_of_birth'].replace(['Reunion'], 'Mauritius')\n",
    "df['country_of_birth'] = df['country_of_birth'].replace(['Svalbard and Jan Mayen'], 'Greenland')\n",
    "df['country_of_birth'] = df['country_of_birth'].replace(['United States Minor Outlying Islands'], 'United States')\n",
    "df['country_of_birth'] = df['country_of_birth'].replace(['Antarctica (the territory South of 60 deg S)'], 'Heard Island and McDonald Islands')\n",
    "df['country_of_birth'] = df['country_of_birth'].replace(['Western Sahara'], 'Morocco')\n",
    "df['country_of_birth'] = df['country_of_birth'].replace(['Svalbard & Jan Mayen Islands'], 'Heard Island and McDonald Islands')\n",
    "df['country_of_birth'] = df['country_of_birth'].replace(['Libyan Arab Jamahiriya'], 'Libya')\n",
    "df['country_of_birth'] = df['country_of_birth'].replace(['Pitcairn Islands'], 'Fiji')\n",
    "df['country_of_birth'] = df['country_of_birth'].replace(['Slovakia (Slovak Republic)'], 'Slovakia')\n",
    "df['country_of_birth'] = df['country_of_birth'].replace(['Bouvet Island (Bouvetoya)'], 'Heard Island and McDonald Islands')\n",
    "df['country_of_birth'] = df['country_of_birth'].replace(['Holy See (Vatican City State)'], 'Italy')\n",
    "df['country_of_birth'] = df['country_of_birth'].replace(['Timor-Leste'], 'Indonesia')\n",
    "df['country_of_birth'] = df['country_of_birth'].replace([\"Cote d'Ivoire\"], 'Ghana')\n",
    "df['country_of_birth'] = df['country_of_birth'].replace(['British Indian Ocean Territory (Chagos Archipelago)'], 'India')\n",
    "df['country_of_birth'] = df['country_of_birth'].replace([\"Netherlands Antilles\"], \"Netherlands\")\n",
    "\n",
    "# Group original countries to continent\n",
    "def country_to_continent(country_of_birth):\n",
    "    country_alpha2 = pc.country_name_to_country_alpha2(country_of_birth)\n",
    "    country_continent_code = pc.country_alpha2_to_continent_code(country_alpha2)\n",
    "    country_continent_name = pc.convert_continent_code_to_continent_name(country_continent_code)\n",
    "    return country_continent_name\n",
    "df['continent_of_birth'] = df['country_of_birth'].apply(country_to_continent)\n",
    "\n",
    "# Group continents\n",
    "df['continent_of_birth'] = df['continent_of_birth'].replace(['North America'], 'America')\n",
    "df['continent_of_birth'] = df['continent_of_birth'].replace(['South America'], 'America')\n",
    "df['continent_of_birth'] = df['continent_of_birth'].replace(['Antarctica'], 'Europe')"
   ]
  },
  {
   "cell_type": "code",
   "execution_count": 8,
   "id": "ab47490d",
   "metadata": {},
   "outputs": [
    {
     "name": "stderr",
     "output_type": "stream",
     "text": [
      "/var/folders/z8/l3fznfyj3qg7ldmg03cy8_z80000gn/T/ipykernel_62197/2780082543.py:25: SettingWithCopyWarning: \n",
      "A value is trying to be set on a copy of a slice from a DataFrame.\n",
      "Try using .loc[row_indexer,col_indexer] = value instead\n",
      "\n",
      "See the caveats in the documentation: https://pandas.pydata.org/pandas-docs/stable/user_guide/indexing.html#returning-a-view-versus-a-copy\n",
      "  secure_df['hash']=df['hash']\n",
      "/var/folders/z8/l3fznfyj3qg7ldmg03cy8_z80000gn/T/ipykernel_62197/2780082543.py:26: SettingWithCopyWarning: \n",
      "A value is trying to be set on a copy of a slice from a DataFrame.\n",
      "Try using .loc[row_indexer,col_indexer] = value instead\n",
      "\n",
      "See the caveats in the documentation: https://pandas.pydata.org/pandas-docs/stable/user_guide/indexing.html#returning-a-view-versus-a-copy\n",
      "  secure_df['salt']=salt\n"
     ]
    }
   ],
   "source": [
    "#SHA ----------------------------------------------------------------\n",
    "\n",
    "#Salt generator\n",
    "def randomword(length):\n",
    "   letters = string.ascii_lowercase #generates lowercase letters\n",
    "   return ''.join(random.choice(letters) for i in range(length)) #generates salt from letters\n",
    "\n",
    "df['NI_enc']=df['national_insurance_number'].str.encode('utf-8') #utf encoding needed for sha function\n",
    "\n",
    "key='password123'.encode('utf-8') #encoding key\n",
    "\n",
    "#Hash function\n",
    "hashes=[]\n",
    "salt=[]\n",
    "for i in range(len(df['NI_enc'])):\n",
    "    salt.append(randomword(10).encode('utf-8'))\n",
    "    hashes.append(hashlib.sha1(key+salt[i]+df['NI_enc'][i]).hexdigest()) #hash function applied \n",
    "\n",
    "df['hash']=hashes\n",
    "df['postcode_split'] = df['postcode'].str.split().str[0] \n",
    "hash_cols=['given_name','surname','phone_number','national_insurance_number','blood_group','postcode','birthdate','age','bank_account_number','birth_year','avg_n_drinks_per_week','avg_n_cigret_per_week','n_countries_visited','bmi','country_of_birth']\n",
    "\n",
    "#Lookup table generation\n",
    "secure_df=df[hash_cols]\n",
    "secure_df['hash']=df['hash']\n",
    "secure_df['salt']=salt\n",
    "new_cust=df.drop(columns=hash_cols)\n",
    "new_cust=new_cust.drop(columns='NI_enc')"
   ]
  },
  {
   "cell_type": "code",
   "execution_count": 9,
   "id": "1d26e51d",
   "metadata": {},
   "outputs": [
    {
     "name": "stdout",
     "output_type": "stream",
     "text": [
      "The Imperial K-anonyminity is: 4\n",
      "The Government K-anonyminity is: 1\n"
     ]
    }
   ],
   "source": [
    "#K-anonyminity - Currently freezes when adding any more quasi_identifiers\n",
    "quasi_identifiers_imp=['countries_visited','cc_status','gender']\n",
    "k_df_imp=new_cust.groupby(quasi_identifiers_imp,observed=True).size().reset_index(name='Count').sort_values(by='Count')\n",
    "print(f'The Imperial K-anonyminity is: {min(k_df_imp[\"Count\"])}')\n",
    "\n",
    "#K-anonyminity - Currently freezes when adding any more quasi_identifiers\n",
    "quasi_identifiers_gov=['cc_status','continent_of_birth']\n",
    "k_df_gov=new_cust.groupby(quasi_identifiers_gov,observed=True).size().reset_index(name='Count').sort_values(by='Count')\n",
    "print(f'The Government K-anonyminity is: {min(k_df_gov[\"Count\"])}')"
   ]
  },
  {
   "cell_type": "code",
   "execution_count": 10,
   "id": "57760b16",
   "metadata": {},
   "outputs": [],
   "source": [
    "# convert the dataframe into csv\n",
    "new_cust.to_csv('new_cust.csv')"
   ]
  },
  {
   "cell_type": "code",
   "execution_count": null,
   "id": "f9a8f3de",
   "metadata": {},
   "outputs": [],
   "source": []
  }
 ],
 "metadata": {
  "kernelspec": {
   "display_name": "Python 3 (ipykernel)",
   "language": "python",
   "name": "python3"
  },
  "language_info": {
   "codemirror_mode": {
    "name": "ipython",
    "version": 3
   },
   "file_extension": ".py",
   "mimetype": "text/x-python",
   "name": "python",
   "nbconvert_exporter": "python",
   "pygments_lexer": "ipython3",
   "version": "3.9.12"
  },
  "vscode": {
   "interpreter": {
    "hash": "6c84df20ab1ac10669529321b7ccb4b2c6d7ae7eb8b375dacb72b7198d4c273e"
   }
  }
 },
 "nbformat": 4,
 "nbformat_minor": 5
}
