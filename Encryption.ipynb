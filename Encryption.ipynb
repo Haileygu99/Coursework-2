{
 "cells": [
  {
   "cell_type": "markdown",
   "id": "081c0803",
   "metadata": {},
   "source": [
    "You need to pip install crytopgraphy "
   ]
  },
  {
   "cell_type": "code",
   "execution_count": 1,
   "id": "1ac4ab2d",
   "metadata": {},
   "outputs": [],
   "source": [
    "# package loading \n",
    "from cryptography.fernet import Fernet"
   ]
  },
  {
   "cell_type": "code",
   "execution_count": 2,
   "id": "ada8c827",
   "metadata": {},
   "outputs": [],
   "source": [
    "# key generation \n",
    "key = Fernet.generate_key()\n",
    "\n",
    "# string the key in a file\n",
    "with open ('filekey.key', 'wb') as filekey:\n",
    "    filekey.write(key)"
   ]
  },
  {
   "cell_type": "code",
   "execution_count": 4,
   "id": "43859591",
   "metadata": {},
   "outputs": [],
   "source": [
    "# opening the key \n",
    "with open ('filekey.key', 'rb') as filekey:\n",
    "    key = filekey.read()\n",
    "\n",
    "# using the generated key \n",
    "fernet = Fernet (key)\n",
    "\n",
    "# opening the original file to encrypt\n",
    "with open('new_cust.csv', 'rb') as new_cust_file:\n",
    "    original = new_cust_file.read()\n",
    "\n",
    "# encrypting the file\n",
    "encrypted = fernet.encrypt(original)\n",
    "\n",
    "# opening the file in write mode and \n",
    "# writing the encrypted data\n",
    "with open ('new_cust.csv', 'wb') as encrypted_new_cust_file:\n",
    "    encrypted_new_cust_file.write(encrypted)"
   ]
  },
  {
   "cell_type": "code",
   "execution_count": 6,
   "id": "323b5b2f",
   "metadata": {},
   "outputs": [],
   "source": [
    "# decrypt the encrypted file \n",
    "# using the key\n",
    "fernet = Fernet(key)\n",
    " \n",
    "# opening the encrypted file\n",
    "with open('new_cust.csv', 'rb') as enc_new_cust_file:\n",
    "    encrypted = enc_new_cust_file.read()\n",
    " \n",
    "# decrypting the file\n",
    "decrypted = fernet.decrypt(encrypted)\n",
    " \n",
    "# opening the file in write mode and\n",
    "# writing the decrypted data\n",
    "with open('new_cust.csv', 'wb') as dec_new_cust_file:\n",
    "    dec_new_cust_file.write(decrypted)"
   ]
  }
 ],
 "metadata": {
  "kernelspec": {
   "display_name": "Python 3.9.12 ('base')",
   "language": "python",
   "name": "python3"
  },
  "language_info": {
   "codemirror_mode": {
    "name": "ipython",
    "version": 3
   },
   "file_extension": ".py",
   "mimetype": "text/x-python",
   "name": "python",
   "nbconvert_exporter": "python",
   "pygments_lexer": "ipython3",
   "version": "3.9.12"
  },
  "vscode": {
   "interpreter": {
    "hash": "6c84df20ab1ac10669529321b7ccb4b2c6d7ae7eb8b375dacb72b7198d4c273e"
   }
  }
 },
 "nbformat": 4,
 "nbformat_minor": 5
}
