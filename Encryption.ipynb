{
 "cells": [
  {
   "cell_type": "markdown",
   "id": "081c0803",
   "metadata": {},
   "source": [
    "You need to pip install crytopgraphy for the encryption"
   ]
  },
  {
   "cell_type": "code",
   "execution_count": 12,
   "id": "1ac4ab2d",
   "metadata": {},
   "outputs": [],
   "source": [
    "# package loading \n",
    "from cryptography.fernet import Fernet"
   ]
  },
  {
   "cell_type": "code",
   "execution_count": 13,
   "id": "ada8c827",
   "metadata": {},
   "outputs": [],
   "source": [
    "# key generation \n",
    "key = Fernet.generate_key()\n",
    "\n",
    "# string the key in a file\n",
    "with open ('filekey.key', 'wb') as filekey:\n",
    "    filekey.write(key)"
   ]
  },
  {
   "cell_type": "markdown",
   "id": "f661b1b3",
   "metadata": {},
   "source": [
    "Encryption for the Imperial Researchers Dataset"
   ]
  },
  {
   "cell_type": "code",
   "execution_count": 14,
   "id": "43859591",
   "metadata": {},
   "outputs": [],
   "source": [
    "# opening the key \n",
    "with open ('filekey.key', 'rb') as filekey:\n",
    "    key = filekey.read()\n",
    "\n",
    "# using the generated key \n",
    "fernet = Fernet (key)\n",
    "\n",
    "# opening the original file to encrypt\n",
    "with open('Imperial Researchers Dataset.csv', 'rb') as Imperial_Researchers_Dataset_file:\n",
    "    original = Imperial_Researchers_Dataset_file.read()\n",
    "\n",
    "# encrypting the file\n",
    "encrypted = fernet.encrypt(original)\n",
    "\n",
    "# opening the file in write mode and \n",
    "# writing the encrypted data\n",
    "with open ('Imperial Researchers Dataset.csv', 'wb') as encrypted_Imperial_Researchers_Dataset_file:\n",
    "    encrypted_Imperial_Researchers_Dataset_file.write(encrypted)"
   ]
  },
  {
   "cell_type": "markdown",
   "id": "7a775cfd",
   "metadata": {},
   "source": [
    "Encryption for the Government Dataset"
   ]
  },
  {
   "cell_type": "code",
   "execution_count": 15,
   "id": "6f79e33b",
   "metadata": {},
   "outputs": [],
   "source": [
    "# opening the key \n",
    "with open ('filekey.key', 'rb') as filekey:\n",
    "    key = filekey.read()\n",
    "\n",
    "# using the generated key \n",
    "fernet = Fernet (key)\n",
    "\n",
    "# opening the original file to encrypt\n",
    "with open('Government Dataset.csv', 'rb') as Government_Dataset_file:\n",
    "    original = Government_Dataset_file.read()\n",
    "\n",
    "# encrypting the file\n",
    "encrypted = fernet.encrypt(original)\n",
    "\n",
    "# opening the file in write mode and \n",
    "# writing the encrypted data\n",
    "with open ('Government Dataset.csv', 'wb') as encrypted_Government_Dataset_file:\n",
    "    encrypted_Government_Dataset_file.write(encrypted)"
   ]
  }
 ],
 "metadata": {
  "kernelspec": {
   "display_name": "Python 3.9.12 ('base')",
   "language": "python",
   "name": "python3"
  },
  "language_info": {
   "codemirror_mode": {
    "name": "ipython",
    "version": 3
   },
   "file_extension": ".py",
   "mimetype": "text/x-python",
   "name": "python",
   "nbconvert_exporter": "python",
   "pygments_lexer": "ipython3",
   "version": "3.9.12"
  },
  "vscode": {
   "interpreter": {
    "hash": "6c84df20ab1ac10669529321b7ccb4b2c6d7ae7eb8b375dacb72b7198d4c273e"
   }
  }
 },
 "nbformat": 4,
 "nbformat_minor": 5
}
